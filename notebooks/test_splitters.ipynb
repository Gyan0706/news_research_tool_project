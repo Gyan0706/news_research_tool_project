{
 "cells": [
  {
   "cell_type": "code",
   "id": "initial_id",
   "metadata": {
    "collapsed": true,
    "ExecuteTime": {
     "end_time": "2025-05-05T11:57:07.061876Z",
     "start_time": "2025-05-05T11:57:06.988593Z"
    }
   },
   "source": "from langchain.document_loaders import TextLoader\n",
   "outputs": [],
   "execution_count": 3
  },
  {
   "metadata": {
    "ExecuteTime": {
     "end_time": "2025-05-05T11:57:40.770643Z",
     "start_time": "2025-05-05T11:57:40.760762Z"
    }
   },
   "cell_type": "code",
   "source": [
    "loader = TextLoader(\"nvda_news_1.txt\")\n",
    "data = loader.load()"
   ],
   "id": "c45993c6bba143e7",
   "outputs": [
    {
     "data": {
      "text/plain": [
       "Document(metadata={'source': 'nvda_news_1.txt'}, page_content=\"The stock of NVIDIA Corp (NASDAQ:NVDA) experienced a daily loss of -3.56% and a 3-month gain of 32.35%. With an Earnings Per Share (EPS) (EPS) of $1.92, the question arises: is the stock significantly overvalued? This article aims to provide a detailed valuation analysis of NVIDIA, offering insights into its financial strength, profitability, growth, and more. We invite you to delve into this comprehensive analysis.\\n\\nCompany Overview\\nWarning! GuruFocus has detected 10 Warning Signs with NVDA. Click here to check it out.\\n\\nNVDA 30-Year Financial Data\\n\\nThe intrinsic value of NVDA\\n\\n\\nNVIDIA Corp (NASDAQ:NVDA) is a leading designer of discrete graphics processing units that enhance the experience on computing platforms. The firm's chips are widely used in various end markets, including PC gaming and data centers. In recent years, NVIDIA has broadened its focus from traditional PC graphics applications such as gaming to more complex and favorable opportunities, including artificial intelligence and autonomous driving, leveraging the high-performance capabilities of its products.\\n\\nCurrently, NVIDIA's stock price stands at $418.01, significantly higher than the GF Value of $310.28, indicating the stock might be overvalued. With a market cap of $1 trillion, the valuation seems steep. The following analysis aims to delve deeper into the company's value.\\n\\nIs NVIDIA's Stock Significantly Overvalued? A Comprehensive Valuation Analysis\\nIs NVIDIA's Stock Significantly Overvalued? A Comprehensive Valuation Analysis\\nUnderstanding the GF Value\\nThe GF Value is a unique measure of the intrinsic value of a stock, calculated based on historical trading multiples, a GuruFocus adjustment factor, and future business performance estimates. If the stock price is significantly above the GF Value Line, it is overvalued, and its future return is likely to be poor. Conversely, if it is significantly below the GF Value Line, its future return will likely be higher.\\n\\nAccording to GuruFocus Value calculation, NVIDIA (NASDAQ:NVDA) appears to be significantly overvalued. The stock's current price of $418.01 per share and the market cap of $1 trillion further strengthen this assumption.\\n\\nGiven that NVIDIA is significantly overvalued, the long-term return of its stock is likely to be much lower than its future business growth.\\n\\nIs NVIDIA's Stock Significantly Overvalued? A Comprehensive Valuation Analysis\\nIs NVIDIA's Stock Significantly Overvalued? A Comprehensive Valuation Analysis\\nLink: These companies may deliver higher future returns at reduced risk.\\n\\nFinancial Strength of NVIDIA\\nExamining the financial strength of a company is crucial before investing in its stock. Companies with poor financial strength pose a higher risk of permanent loss. NVIDIA's cash-to-debt ratio of 1.27 is worse than 58.04% of companies in the Semiconductors industry. However, NVIDIA's overall financial strength is 8 out of 10, indicating a strong financial position.\\n\\nIs NVIDIA's Stock Significantly Overvalued? A Comprehensive Valuation Analysis\\nIs NVIDIA's Stock Significantly Overvalued? A Comprehensive Valuation Analysis\\nProfitability and Growth\\nConsistent profitability over the long term reduces the risk for investors. NVIDIA, with its profitability ranking of 10 out of 10, has been profitable for the past 10 years. The company's operating margin of 17.37% ranks better than 76.5% of companies in the Semiconductors industry.\\n\\nHowever, growth is a crucial factor in a company's valuation. NVIDIA's growth ranks worse than 52.99% of companies in the Semiconductors industry, with its 3-year average revenue growth rate better than 87.88% of companies in the industry.\\n\\nROIC vs WACC\\nComparing a company's return on invested capital (ROIC) to its weighted average cost of capital (WACC) is an effective way to evaluate its profitability. Over the past 12 months, NVIDIA's ROIC was 20.32 while its WACC was 16.74, suggesting that the company is creating value for its shareholders.\\n\\nIs NVIDIA's Stock Significantly Overvalued? A Comprehensive Valuation Analysis\\nIs NVIDIA's Stock Significantly Overvalued? A Comprehensive Valuation Analysis\\nConclusion\\nIn conclusion, NVIDIA (NASDAQ:NVDA) appears to be significantly overvalued. Despite its strong financial condition and profitability, its growth ranks lower than 52.99% of companies in the Semiconductors industry. To learn more about NVIDIA stock, you can check out its 30-Year Financials here.\\n\\nTo find out the high quality companies that may deliver above-average returns, please check out GuruFocus High Quality Low Capex Screener.\\n\\nThis article first appeared on GuruFocus.\")"
      ]
     },
     "execution_count": 6,
     "metadata": {},
     "output_type": "execute_result"
    }
   ],
   "execution_count": 6
  },
  {
   "metadata": {
    "ExecuteTime": {
     "end_time": "2025-05-05T11:58:28.421650Z",
     "start_time": "2025-05-05T11:58:28.411802Z"
    }
   },
   "cell_type": "code",
   "source": "data[0].metadata",
   "id": "66ae16bc642cbfa0",
   "outputs": [
    {
     "data": {
      "text/plain": [
       "{'source': 'nvda_news_1.txt'}"
      ]
     },
     "execution_count": 8,
     "metadata": {},
     "output_type": "execute_result"
    }
   ],
   "execution_count": 8
  },
  {
   "metadata": {
    "ExecuteTime": {
     "end_time": "2025-05-05T12:03:31.000083Z",
     "start_time": "2025-05-05T12:03:30.991731Z"
    }
   },
   "cell_type": "code",
   "source": [
    "from langchain.document_loaders.csv_loader import CSVLoader\n",
    "loader = CSVLoader(\"movies.csv\", source_column=\"title\")\n",
    "data = loader.load()\n",
    "len(data)"
   ],
   "id": "f5428d7a70609f62",
   "outputs": [
    {
     "data": {
      "text/plain": [
       "9"
      ]
     },
     "execution_count": 14,
     "metadata": {},
     "output_type": "execute_result"
    }
   ],
   "execution_count": 14
  },
  {
   "metadata": {
    "ExecuteTime": {
     "end_time": "2025-05-05T12:06:57.609014Z",
     "start_time": "2025-05-05T12:06:21.850204Z"
    }
   },
   "cell_type": "code",
   "source": "!pip install unstructured libmagic python-magic python-magic-bin",
   "id": "56a3b61ae679d60b",
   "outputs": [
    {
     "name": "stdout",
     "output_type": "stream",
     "text": [
      "Collecting unstructured\n",
      "  Downloading unstructured-0.17.2-py3-none-any.whl.metadata (24 kB)\n",
      "Collecting libmagic\n",
      "  Downloading libmagic-1.0.tar.gz (3.7 kB)\n",
      "  Installing build dependencies: started\n",
      "  Installing build dependencies: finished with status 'done'\n",
      "  Getting requirements to build wheel: started\n",
      "  Getting requirements to build wheel: finished with status 'done'\n",
      "  Preparing metadata (pyproject.toml): started\n",
      "  Preparing metadata (pyproject.toml): finished with status 'done'\n",
      "Collecting python-magic\n",
      "  Downloading python_magic-0.4.27-py2.py3-none-any.whl.metadata (5.8 kB)\n",
      "Collecting python-magic-bin\n",
      "  Downloading python_magic_bin-0.4.14-py2.py3-none-win_amd64.whl.metadata (710 bytes)\n",
      "Collecting chardet (from unstructured)\n",
      "  Downloading chardet-5.2.0-py3-none-any.whl.metadata (3.4 kB)\n",
      "Collecting filetype (from unstructured)\n",
      "  Downloading filetype-1.2.0-py2.py3-none-any.whl.metadata (6.5 kB)\n",
      "Collecting lxml (from unstructured)\n",
      "  Downloading lxml-5.4.0-cp311-cp311-win_amd64.whl.metadata (3.6 kB)\n",
      "Collecting nltk (from unstructured)\n",
      "  Downloading nltk-3.9.1-py3-none-any.whl.metadata (2.9 kB)\n",
      "Requirement already satisfied: requests in c:\\users\\gyanada\\appdata\\local\\packages\\pythonsoftwarefoundation.python.3.11_qbz5n2kfra8p0\\localcache\\local-packages\\python311\\site-packages (from unstructured) (2.32.3)\n",
      "Requirement already satisfied: beautifulsoup4 in c:\\users\\gyanada\\appdata\\local\\packages\\pythonsoftwarefoundation.python.3.11_qbz5n2kfra8p0\\localcache\\local-packages\\python311\\site-packages (from unstructured) (4.13.4)\n",
      "Collecting emoji (from unstructured)\n",
      "  Downloading emoji-2.14.1-py3-none-any.whl.metadata (5.7 kB)\n",
      "Requirement already satisfied: dataclasses-json in c:\\users\\gyanada\\appdata\\local\\packages\\pythonsoftwarefoundation.python.3.11_qbz5n2kfra8p0\\localcache\\local-packages\\python311\\site-packages (from unstructured) (0.6.7)\n",
      "Collecting python-iso639 (from unstructured)\n",
      "  Downloading python_iso639-2025.2.18-py3-none-any.whl.metadata (14 kB)\n",
      "Collecting langdetect (from unstructured)\n",
      "  Using cached langdetect-1.0.9-py3-none-any.whl\n",
      "Requirement already satisfied: numpy in c:\\users\\gyanada\\appdata\\local\\packages\\pythonsoftwarefoundation.python.3.11_qbz5n2kfra8p0\\localcache\\local-packages\\python311\\site-packages (from unstructured) (2.2.4)\n",
      "Collecting rapidfuzz (from unstructured)\n",
      "  Downloading rapidfuzz-3.13.0-cp311-cp311-win_amd64.whl.metadata (12 kB)\n",
      "Collecting backoff (from unstructured)\n",
      "  Downloading backoff-2.2.1-py3-none-any.whl.metadata (14 kB)\n",
      "Requirement already satisfied: typing-extensions in c:\\users\\gyanada\\appdata\\local\\packages\\pythonsoftwarefoundation.python.3.11_qbz5n2kfra8p0\\localcache\\local-packages\\python311\\site-packages (from unstructured) (4.13.2)\n",
      "Collecting unstructured-client (from unstructured)\n",
      "  Downloading unstructured_client-0.34.0-py3-none-any.whl.metadata (21 kB)\n",
      "Collecting wrapt (from unstructured)\n",
      "  Downloading wrapt-1.17.2-cp311-cp311-win_amd64.whl.metadata (6.5 kB)\n",
      "Requirement already satisfied: tqdm in c:\\users\\gyanada\\appdata\\local\\packages\\pythonsoftwarefoundation.python.3.11_qbz5n2kfra8p0\\localcache\\local-packages\\python311\\site-packages (from unstructured) (4.67.1)\n",
      "Requirement already satisfied: psutil in c:\\users\\gyanada\\appdata\\local\\packages\\pythonsoftwarefoundation.python.3.11_qbz5n2kfra8p0\\localcache\\local-packages\\python311\\site-packages (from unstructured) (7.0.0)\n",
      "Collecting python-oxmsg (from unstructured)\n",
      "  Downloading python_oxmsg-0.0.2-py3-none-any.whl.metadata (5.0 kB)\n",
      "Collecting html5lib (from unstructured)\n",
      "  Downloading html5lib-1.1-py2.py3-none-any.whl.metadata (16 kB)\n",
      "Requirement already satisfied: soupsieve>1.2 in c:\\users\\gyanada\\appdata\\local\\packages\\pythonsoftwarefoundation.python.3.11_qbz5n2kfra8p0\\localcache\\local-packages\\python311\\site-packages (from beautifulsoup4->unstructured) (2.7)\n",
      "Requirement already satisfied: marshmallow<4.0.0,>=3.18.0 in c:\\users\\gyanada\\appdata\\local\\packages\\pythonsoftwarefoundation.python.3.11_qbz5n2kfra8p0\\localcache\\local-packages\\python311\\site-packages (from dataclasses-json->unstructured) (3.26.1)\n",
      "Requirement already satisfied: typing-inspect<1,>=0.4.0 in c:\\users\\gyanada\\appdata\\local\\packages\\pythonsoftwarefoundation.python.3.11_qbz5n2kfra8p0\\localcache\\local-packages\\python311\\site-packages (from dataclasses-json->unstructured) (0.9.0)\n",
      "Requirement already satisfied: packaging>=17.0 in c:\\users\\gyanada\\appdata\\local\\packages\\pythonsoftwarefoundation.python.3.11_qbz5n2kfra8p0\\localcache\\local-packages\\python311\\site-packages (from marshmallow<4.0.0,>=3.18.0->dataclasses-json->unstructured) (24.2)\n",
      "Requirement already satisfied: mypy-extensions>=0.3.0 in c:\\users\\gyanada\\appdata\\local\\packages\\pythonsoftwarefoundation.python.3.11_qbz5n2kfra8p0\\localcache\\local-packages\\python311\\site-packages (from typing-inspect<1,>=0.4.0->dataclasses-json->unstructured) (1.1.0)\n",
      "Requirement already satisfied: six>=1.9 in c:\\users\\gyanada\\appdata\\local\\packages\\pythonsoftwarefoundation.python.3.11_qbz5n2kfra8p0\\localcache\\local-packages\\python311\\site-packages (from html5lib->unstructured) (1.17.0)\n",
      "Requirement already satisfied: webencodings in c:\\users\\gyanada\\appdata\\local\\packages\\pythonsoftwarefoundation.python.3.11_qbz5n2kfra8p0\\localcache\\local-packages\\python311\\site-packages (from html5lib->unstructured) (0.5.1)\n",
      "Requirement already satisfied: click in c:\\users\\gyanada\\appdata\\local\\packages\\pythonsoftwarefoundation.python.3.11_qbz5n2kfra8p0\\localcache\\local-packages\\python311\\site-packages (from nltk->unstructured) (8.1.7)\n",
      "Collecting joblib (from nltk->unstructured)\n",
      "  Using cached joblib-1.5.0-py3-none-any.whl.metadata (5.6 kB)\n",
      "Collecting regex>=2021.8.3 (from nltk->unstructured)\n",
      "  Using cached regex-2024.11.6-cp311-cp311-win_amd64.whl.metadata (41 kB)\n",
      "Requirement already satisfied: colorama in c:\\users\\gyanada\\appdata\\local\\packages\\pythonsoftwarefoundation.python.3.11_qbz5n2kfra8p0\\localcache\\local-packages\\python311\\site-packages (from click->nltk->unstructured) (0.4.6)\n",
      "Collecting olefile (from python-oxmsg->unstructured)\n",
      "  Downloading olefile-0.47-py2.py3-none-any.whl.metadata (9.7 kB)\n",
      "Requirement already satisfied: charset-normalizer<4,>=2 in c:\\users\\gyanada\\appdata\\local\\packages\\pythonsoftwarefoundation.python.3.11_qbz5n2kfra8p0\\localcache\\local-packages\\python311\\site-packages (from requests->unstructured) (3.4.1)\n",
      "Requirement already satisfied: idna<4,>=2.5 in c:\\users\\gyanada\\appdata\\local\\packages\\pythonsoftwarefoundation.python.3.11_qbz5n2kfra8p0\\localcache\\local-packages\\python311\\site-packages (from requests->unstructured) (3.10)\n",
      "Requirement already satisfied: urllib3<3,>=1.21.1 in c:\\users\\gyanada\\appdata\\local\\packages\\pythonsoftwarefoundation.python.3.11_qbz5n2kfra8p0\\localcache\\local-packages\\python311\\site-packages (from requests->unstructured) (2.3.0)\n",
      "Requirement already satisfied: certifi>=2017.4.17 in c:\\users\\gyanada\\appdata\\local\\packages\\pythonsoftwarefoundation.python.3.11_qbz5n2kfra8p0\\localcache\\local-packages\\python311\\site-packages (from requests->unstructured) (2025.1.31)\n",
      "Collecting aiofiles>=24.1.0 (from unstructured-client->unstructured)\n",
      "  Downloading aiofiles-24.1.0-py3-none-any.whl.metadata (10 kB)\n",
      "Collecting cryptography>=3.1 (from unstructured-client->unstructured)\n",
      "  Downloading cryptography-44.0.3-cp39-abi3-win_amd64.whl.metadata (5.7 kB)\n",
      "Collecting eval-type-backport>=0.2.0 (from unstructured-client->unstructured)\n",
      "  Downloading eval_type_backport-0.2.2-py3-none-any.whl.metadata (2.2 kB)\n",
      "Requirement already satisfied: httpx>=0.27.0 in c:\\users\\gyanada\\appdata\\local\\packages\\pythonsoftwarefoundation.python.3.11_qbz5n2kfra8p0\\localcache\\local-packages\\python311\\site-packages (from unstructured-client->unstructured) (0.28.1)\n",
      "Requirement already satisfied: nest-asyncio>=1.6.0 in c:\\users\\gyanada\\appdata\\local\\packages\\pythonsoftwarefoundation.python.3.11_qbz5n2kfra8p0\\localcache\\local-packages\\python311\\site-packages (from unstructured-client->unstructured) (1.6.0)\n",
      "Requirement already satisfied: pydantic>=2.11.2 in c:\\users\\gyanada\\appdata\\local\\packages\\pythonsoftwarefoundation.python.3.11_qbz5n2kfra8p0\\localcache\\local-packages\\python311\\site-packages (from unstructured-client->unstructured) (2.11.4)\n",
      "Collecting pypdf>=4.0 (from unstructured-client->unstructured)\n",
      "  Downloading pypdf-5.4.0-py3-none-any.whl.metadata (7.3 kB)\n",
      "Requirement already satisfied: requests-toolbelt>=1.0.0 in c:\\users\\gyanada\\appdata\\local\\packages\\pythonsoftwarefoundation.python.3.11_qbz5n2kfra8p0\\localcache\\local-packages\\python311\\site-packages (from unstructured-client->unstructured) (1.0.0)\n",
      "Requirement already satisfied: typing-inspection>=0.4.0 in c:\\users\\gyanada\\appdata\\local\\packages\\pythonsoftwarefoundation.python.3.11_qbz5n2kfra8p0\\localcache\\local-packages\\python311\\site-packages (from unstructured-client->unstructured) (0.4.0)\n",
      "Requirement already satisfied: cffi>=1.12 in c:\\users\\gyanada\\appdata\\local\\packages\\pythonsoftwarefoundation.python.3.11_qbz5n2kfra8p0\\localcache\\local-packages\\python311\\site-packages (from cryptography>=3.1->unstructured-client->unstructured) (1.17.1)\n",
      "Requirement already satisfied: pycparser in c:\\users\\gyanada\\appdata\\local\\packages\\pythonsoftwarefoundation.python.3.11_qbz5n2kfra8p0\\localcache\\local-packages\\python311\\site-packages (from cffi>=1.12->cryptography>=3.1->unstructured-client->unstructured) (2.22)\n",
      "Requirement already satisfied: anyio in c:\\users\\gyanada\\appdata\\local\\packages\\pythonsoftwarefoundation.python.3.11_qbz5n2kfra8p0\\localcache\\local-packages\\python311\\site-packages (from httpx>=0.27.0->unstructured-client->unstructured) (4.9.0)\n",
      "Requirement already satisfied: httpcore==1.* in c:\\users\\gyanada\\appdata\\local\\packages\\pythonsoftwarefoundation.python.3.11_qbz5n2kfra8p0\\localcache\\local-packages\\python311\\site-packages (from httpx>=0.27.0->unstructured-client->unstructured) (1.0.9)\n",
      "Requirement already satisfied: h11>=0.16 in c:\\users\\gyanada\\appdata\\local\\packages\\pythonsoftwarefoundation.python.3.11_qbz5n2kfra8p0\\localcache\\local-packages\\python311\\site-packages (from httpcore==1.*->httpx>=0.27.0->unstructured-client->unstructured) (0.16.0)\n",
      "Requirement already satisfied: annotated-types>=0.6.0 in c:\\users\\gyanada\\appdata\\local\\packages\\pythonsoftwarefoundation.python.3.11_qbz5n2kfra8p0\\localcache\\local-packages\\python311\\site-packages (from pydantic>=2.11.2->unstructured-client->unstructured) (0.7.0)\n",
      "Requirement already satisfied: pydantic-core==2.33.2 in c:\\users\\gyanada\\appdata\\local\\packages\\pythonsoftwarefoundation.python.3.11_qbz5n2kfra8p0\\localcache\\local-packages\\python311\\site-packages (from pydantic>=2.11.2->unstructured-client->unstructured) (2.33.2)\n",
      "Requirement already satisfied: sniffio>=1.1 in c:\\users\\gyanada\\appdata\\local\\packages\\pythonsoftwarefoundation.python.3.11_qbz5n2kfra8p0\\localcache\\local-packages\\python311\\site-packages (from anyio->httpx>=0.27.0->unstructured-client->unstructured) (1.3.1)\n",
      "Downloading unstructured-0.17.2-py3-none-any.whl (1.8 MB)\n",
      "   ---------------------------------------- 0.0/1.8 MB ? eta -:--:--\n",
      "   ---------------------------------------- 0.0/1.8 MB ? eta -:--:--\n",
      "   ---------------------------------------- 0.0/1.8 MB ? eta -:--:--\n",
      "   ---------------------------------------- 0.0/1.8 MB ? eta -:--:--\n",
      "   ----- ---------------------------------- 0.3/1.8 MB ? eta -:--:--\n",
      "   ----- ---------------------------------- 0.3/1.8 MB ? eta -:--:--\n",
      "   ----------- ---------------------------- 0.5/1.8 MB 985.5 kB/s eta 0:00:02\n",
      "   ----------------- ---------------------- 0.8/1.8 MB 931.2 kB/s eta 0:00:02\n",
      "   ----------------------------- ---------- 1.3/1.8 MB 1.2 MB/s eta 0:00:01\n",
      "   ----------------------------------- ---- 1.6/1.8 MB 1.4 MB/s eta 0:00:01\n",
      "   ---------------------------------------- 1.8/1.8 MB 1.2 MB/s eta 0:00:00\n",
      "Downloading python_magic-0.4.27-py2.py3-none-any.whl (13 kB)\n",
      "Downloading python_magic_bin-0.4.14-py2.py3-none-win_amd64.whl (409 kB)\n",
      "Downloading backoff-2.2.1-py3-none-any.whl (15 kB)\n",
      "Downloading chardet-5.2.0-py3-none-any.whl (199 kB)\n",
      "Downloading emoji-2.14.1-py3-none-any.whl (590 kB)\n",
      "   ---------------------------------------- 0.0/590.6 kB ? eta -:--:--\n",
      "   ----------------- ---------------------- 262.1/590.6 kB ? eta -:--:--\n",
      "   ---------------------------------------- 590.6/590.6 kB 1.6 MB/s eta 0:00:00\n",
      "Downloading filetype-1.2.0-py2.py3-none-any.whl (19 kB)\n",
      "Downloading html5lib-1.1-py2.py3-none-any.whl (112 kB)\n",
      "Downloading lxml-5.4.0-cp311-cp311-win_amd64.whl (3.8 MB)\n",
      "   ---------------------------------------- 0.0/3.8 MB ? eta -:--:--\n",
      "   -- ------------------------------------- 0.3/3.8 MB ? eta -:--:--\n",
      "   -------- ------------------------------- 0.8/3.8 MB 1.8 MB/s eta 0:00:02\n",
      "   ---------- ----------------------------- 1.0/3.8 MB 1.9 MB/s eta 0:00:02\n",
      "   ---------------- ----------------------- 1.6/3.8 MB 2.0 MB/s eta 0:00:02\n",
      "   --------------------- ------------------ 2.1/3.8 MB 2.1 MB/s eta 0:00:01\n",
      "   --------------------------- ------------ 2.6/3.8 MB 2.0 MB/s eta 0:00:01\n",
      "   ------------------------------ --------- 2.9/3.8 MB 2.1 MB/s eta 0:00:01\n",
      "   ----------------------------------- ---- 3.4/3.8 MB 2.0 MB/s eta 0:00:01\n",
      "   ---------------------------------------- 3.8/3.8 MB 2.0 MB/s eta 0:00:00\n",
      "Downloading nltk-3.9.1-py3-none-any.whl (1.5 MB)\n",
      "   ---------------------------------------- 0.0/1.5 MB ? eta -:--:--\n",
      "   ---------------------------------------- 0.0/1.5 MB ? eta -:--:--\n",
      "   ------ --------------------------------- 0.3/1.5 MB ? eta -:--:--\n",
      "   ------------- -------------------------- 0.5/1.5 MB 837.5 kB/s eta 0:00:02\n",
      "   -------------------- ------------------- 0.8/1.5 MB 958.5 kB/s eta 0:00:01\n",
      "   --------------------------- ------------ 1.0/1.5 MB 1.1 MB/s eta 0:00:01\n",
      "   ---------------------------------- ----- 1.3/1.5 MB 1.2 MB/s eta 0:00:01\n",
      "   ---------------------------------------- 1.5/1.5 MB 1.2 MB/s eta 0:00:00\n",
      "Using cached regex-2024.11.6-cp311-cp311-win_amd64.whl (274 kB)\n",
      "Using cached joblib-1.5.0-py3-none-any.whl (307 kB)\n",
      "Downloading python_iso639-2025.2.18-py3-none-any.whl (167 kB)\n",
      "Downloading python_oxmsg-0.0.2-py3-none-any.whl (31 kB)\n",
      "Downloading olefile-0.47-py2.py3-none-any.whl (114 kB)\n",
      "Downloading rapidfuzz-3.13.0-cp311-cp311-win_amd64.whl (1.6 MB)\n",
      "   ---------------------------------------- 0.0/1.6 MB ? eta -:--:--\n",
      "   ------ --------------------------------- 0.3/1.6 MB ? eta -:--:--\n",
      "   ------------ --------------------------- 0.5/1.6 MB 1.4 MB/s eta 0:00:01\n",
      "   ------------------- -------------------- 0.8/1.6 MB 1.7 MB/s eta 0:00:01\n",
      "   -------------------------------- ------- 1.3/1.6 MB 1.7 MB/s eta 0:00:01\n",
      "   ---------------------------------------- 1.6/1.6 MB 1.7 MB/s eta 0:00:00\n",
      "Downloading unstructured_client-0.34.0-py3-none-any.whl (189 kB)\n",
      "Downloading aiofiles-24.1.0-py3-none-any.whl (15 kB)\n",
      "Downloading cryptography-44.0.3-cp39-abi3-win_amd64.whl (3.2 MB)\n",
      "   ---------------------------------------- 0.0/3.2 MB ? eta -:--:--\n",
      "   --- ------------------------------------ 0.3/3.2 MB ? eta -:--:--\n",
      "   --------- ------------------------------ 0.8/3.2 MB 2.0 MB/s eta 0:00:02\n",
      "   ------------- -------------------------- 1.0/3.2 MB 2.0 MB/s eta 0:00:02\n",
      "   ---------------- ----------------------- 1.3/3.2 MB 1.9 MB/s eta 0:00:01\n",
      "   ------------------- -------------------- 1.6/3.2 MB 1.8 MB/s eta 0:00:01\n",
      "   ---------------------- ----------------- 1.8/3.2 MB 1.6 MB/s eta 0:00:01\n",
      "   -------------------------- ------------- 2.1/3.2 MB 1.6 MB/s eta 0:00:01\n",
      "   ----------------------------- ---------- 2.4/3.2 MB 1.5 MB/s eta 0:00:01\n",
      "   ----------------------------------- ---- 2.9/3.2 MB 1.5 MB/s eta 0:00:01\n",
      "   ---------------------------------------- 3.2/3.2 MB 1.5 MB/s eta 0:00:00\n",
      "Downloading eval_type_backport-0.2.2-py3-none-any.whl (5.8 kB)\n",
      "Downloading pypdf-5.4.0-py3-none-any.whl (302 kB)\n",
      "Downloading wrapt-1.17.2-cp311-cp311-win_amd64.whl (38 kB)\n",
      "Building wheels for collected packages: libmagic\n",
      "  Building wheel for libmagic (pyproject.toml): started\n",
      "  Building wheel for libmagic (pyproject.toml): finished with status 'done'\n",
      "  Created wheel for libmagic: filename=libmagic-1.0-py3-none-any.whl size=4324 sha256=f4e03ca33612b1c91f4f23a6cf7a467250d9d7730384c8da2dc480246f0052e4\n",
      "  Stored in directory: c:\\users\\gyanada\\appdata\\local\\pip\\cache\\wheels\\3e\\35\\13\\53c696ff5f3523479505ec5ed4156198671fb598fe678178bf\n",
      "Successfully built libmagic\n",
      "Installing collected packages: python-magic-bin, libmagic, filetype, wrapt, regex, rapidfuzz, python-magic, python-iso639, pypdf, olefile, lxml, langdetect, joblib, html5lib, eval-type-backport, emoji, chardet, backoff, aiofiles, python-oxmsg, nltk, cryptography, unstructured-client, unstructured\n",
      "\n",
      "   --- ------------------------------------  2/24 [filetype]\n",
      "   ----- ----------------------------------  3/24 [wrapt]\n",
      "   ------ ---------------------------------  4/24 [regex]\n",
      "   -------- -------------------------------  5/24 [rapidfuzz]\n",
      "   -------- -------------------------------  5/24 [rapidfuzz]\n",
      "   ------------- --------------------------  8/24 [pypdf]\n",
      "   ------------- --------------------------  8/24 [pypdf]\n",
      "   ------------- --------------------------  8/24 [pypdf]\n",
      "   ---------------- ----------------------- 10/24 [lxml]\n",
      "   ---------------- ----------------------- 10/24 [lxml]\n",
      "   ------------------ --------------------- 11/24 [langdetect]\n",
      "   -------------------- ------------------- 12/24 [joblib]\n",
      "   -------------------- ------------------- 12/24 [joblib]\n",
      "   -------------------- ------------------- 12/24 [joblib]\n",
      "   --------------------- ------------------ 13/24 [html5lib]\n",
      "   ------------------------- -------------- 15/24 [emoji]\n",
      "   -------------------------- ------------- 16/24 [chardet]\n",
      "   ---------------------------- ----------- 17/24 [backoff]\n",
      "   ------------------------------- -------- 19/24 [python-oxmsg]\n",
      "   --------------------------------- ------ 20/24 [nltk]\n",
      "   --------------------------------- ------ 20/24 [nltk]\n",
      "   --------------------------------- ------ 20/24 [nltk]\n",
      "   --------------------------------- ------ 20/24 [nltk]\n",
      "   --------------------------------- ------ 20/24 [nltk]\n",
      "   --------------------------------- ------ 20/24 [nltk]\n",
      "   --------------------------------- ------ 20/24 [nltk]\n",
      "   --------------------------------- ------ 20/24 [nltk]\n",
      "   --------------------------------- ------ 20/24 [nltk]\n",
      "   --------------------------------- ------ 20/24 [nltk]\n",
      "   --------------------------------- ------ 20/24 [nltk]\n",
      "   --------------------------------- ------ 20/24 [nltk]\n",
      "   --------------------------------- ------ 20/24 [nltk]\n",
      "   --------------------------------- ------ 20/24 [nltk]\n",
      "   ----------------------------------- ---- 21/24 [cryptography]\n",
      "   ----------------------------------- ---- 21/24 [cryptography]\n",
      "   ----------------------------------- ---- 21/24 [cryptography]\n",
      "   ----------------------------------- ---- 21/24 [cryptography]\n",
      "   ----------------------------------- ---- 21/24 [cryptography]\n",
      "   ----------------------------------- ---- 21/24 [cryptography]\n",
      "   ------------------------------------ --- 22/24 [unstructured-client]\n",
      "   ------------------------------------ --- 22/24 [unstructured-client]\n",
      "   ------------------------------------ --- 22/24 [unstructured-client]\n",
      "   ------------------------------------ --- 22/24 [unstructured-client]\n",
      "   ------------------------------------ --- 22/24 [unstructured-client]\n",
      "   ------------------------------------ --- 22/24 [unstructured-client]\n",
      "   ------------------------------------ --- 22/24 [unstructured-client]\n",
      "   ------------------------------------ --- 22/24 [unstructured-client]\n",
      "   ------------------------------------ --- 22/24 [unstructured-client]\n",
      "   ------------------------------------ --- 22/24 [unstructured-client]\n",
      "   -------------------------------------- - 23/24 [unstructured]\n",
      "   -------------------------------------- - 23/24 [unstructured]\n",
      "   -------------------------------------- - 23/24 [unstructured]\n",
      "   -------------------------------------- - 23/24 [unstructured]\n",
      "   -------------------------------------- - 23/24 [unstructured]\n",
      "   -------------------------------------- - 23/24 [unstructured]\n",
      "   -------------------------------------- - 23/24 [unstructured]\n",
      "   -------------------------------------- - 23/24 [unstructured]\n",
      "   -------------------------------------- - 23/24 [unstructured]\n",
      "   -------------------------------------- - 23/24 [unstructured]\n",
      "   -------------------------------------- - 23/24 [unstructured]\n",
      "   -------------------------------------- - 23/24 [unstructured]\n",
      "   -------------------------------------- - 23/24 [unstructured]\n",
      "   -------------------------------------- - 23/24 [unstructured]\n",
      "   -------------------------------------- - 23/24 [unstructured]\n",
      "   ---------------------------------------- 24/24 [unstructured]\n",
      "\n",
      "Successfully installed aiofiles-24.1.0 backoff-2.2.1 chardet-5.2.0 cryptography-44.0.3 emoji-2.14.1 eval-type-backport-0.2.2 filetype-1.2.0 html5lib-1.1 joblib-1.5.0 langdetect-1.0.9 libmagic-1.0 lxml-5.4.0 nltk-3.9.1 olefile-0.47 pypdf-5.4.0 python-iso639-2025.2.18 python-magic-0.4.27 python-magic-bin-0.4.14 python-oxmsg-0.0.2 rapidfuzz-3.13.0 regex-2024.11.6 unstructured-0.17.2 unstructured-client-0.34.0 wrapt-1.17.2\n"
     ]
    },
    {
     "name": "stderr",
     "output_type": "stream",
     "text": [
      "  WARNING: The script filetype.exe is installed in 'C:\\Users\\Gyanada\\AppData\\Local\\Packages\\PythonSoftwareFoundation.Python.3.11_qbz5n2kfra8p0\\LocalCache\\local-packages\\Python311\\Scripts' which is not on PATH.\n",
      "  Consider adding this directory to PATH or, if you prefer to suppress this warning, use --no-warn-script-location.\n",
      "  WARNING: The script chardetect.exe is installed in 'C:\\Users\\Gyanada\\AppData\\Local\\Packages\\PythonSoftwareFoundation.Python.3.11_qbz5n2kfra8p0\\LocalCache\\local-packages\\Python311\\Scripts' which is not on PATH.\n",
      "  Consider adding this directory to PATH or, if you prefer to suppress this warning, use --no-warn-script-location.\n",
      "  WARNING: The script oxmsg.exe is installed in 'C:\\Users\\Gyanada\\AppData\\Local\\Packages\\PythonSoftwareFoundation.Python.3.11_qbz5n2kfra8p0\\LocalCache\\local-packages\\Python311\\Scripts' which is not on PATH.\n",
      "  Consider adding this directory to PATH or, if you prefer to suppress this warning, use --no-warn-script-location.\n",
      "  WARNING: The script nltk.exe is installed in 'C:\\Users\\Gyanada\\AppData\\Local\\Packages\\PythonSoftwareFoundation.Python.3.11_qbz5n2kfra8p0\\LocalCache\\local-packages\\Python311\\Scripts' which is not on PATH.\n",
      "  Consider adding this directory to PATH or, if you prefer to suppress this warning, use --no-warn-script-location.\n"
     ]
    }
   ],
   "execution_count": 16
  },
  {
   "metadata": {
    "ExecuteTime": {
     "end_time": "2025-05-05T12:08:14.776763Z",
     "start_time": "2025-05-05T12:08:14.771052Z"
    }
   },
   "cell_type": "code",
   "source": "from langchain.document_loaders import UnstructuredURLLoader",
   "id": "7c0b62dccc9c3658",
   "outputs": [],
   "execution_count": 17
  },
  {
   "metadata": {
    "ExecuteTime": {
     "end_time": "2025-05-05T12:09:22.877844Z",
     "start_time": "2025-05-05T12:09:22.854942Z"
    }
   },
   "cell_type": "code",
   "source": [
    "loader = UnstructuredURLLoader(\n",
    "    urls= [\n",
    "        \"https://www.moneycontrol.com/news/business/banks/hdfc-bank-re-appoints-sanmoy-chakrabarti-as-chief-risk-officer-11259771.html\",\n",
    "        \"https://www.moneycontrol.com/news/business/markets/market-corrects-post-rbi-ups-inflation-forecast-icrr-bet-on-these-top-10-rate-sensitive-stocks-ideas-11142611.html\"\n",
    "    ]\n",
    ")"
   ],
   "id": "4bac1df7a17cebab",
   "outputs": [],
   "execution_count": 18
  },
  {
   "metadata": {
    "ExecuteTime": {
     "end_time": "2025-05-05T12:10:02.829893Z",
     "start_time": "2025-05-05T12:09:54.892984Z"
    }
   },
   "cell_type": "code",
   "source": [
    "data= loader.load()\n",
    "len(data)"
   ],
   "id": "4229e1a9ed612dfd",
   "outputs": [
    {
     "data": {
      "text/plain": [
       "2"
      ]
     },
     "execution_count": 19,
     "metadata": {},
     "output_type": "execute_result"
    }
   ],
   "execution_count": 19
  },
  {
   "metadata": {
    "ExecuteTime": {
     "end_time": "2025-05-05T12:11:01.070782Z",
     "start_time": "2025-05-05T12:11:01.060825Z"
    }
   },
   "cell_type": "code",
   "source": "data[0].page_content[0:100]",
   "id": "8ed1a4c39e3c7d18",
   "outputs": [
    {
     "data": {
      "text/plain": [
       "'English\\n\\nHindi\\n\\nGujarati\\n\\nSpecials\\n\\nHello, Login\\n\\nHello, Login\\n\\nLog-inor Sign-Up\\n\\nMy Account\\n\\nMy Pro'"
      ]
     },
     "execution_count": 21,
     "metadata": {},
     "output_type": "execute_result"
    }
   ],
   "execution_count": 21
  },
  {
   "metadata": {
    "ExecuteTime": {
     "end_time": "2025-05-05T12:12:31.716724Z",
     "start_time": "2025-05-05T12:12:31.711568Z"
    }
   },
   "cell_type": "code",
   "source": [
    "# Taking some random text from wikipedia\n",
    "\n",
    "text = \"\"\"Interstellar is a 2014 epic science fiction film co-written, directed, and produced by Christopher Nolan.\n",
    "It stars Matthew McConaughey, Anne Hathaway, Jessica Chastain, Bill Irwin, Ellen Burstyn, Matt Damon, and Michael Caine.\n",
    "Set in a dystopian future where humanity is embroiled in a catastrophic blight and famine, the film follows a group of astronauts who travel through a wormhole near Saturn in search of a new home for humankind.\n",
    "\n",
    "Brothers Christopher and Jonathan Nolan wrote the screenplay, which had its origins in a script Jonathan developed in 2007 and was originally set to be directed by Steven Spielberg.\n",
    "Kip Thorne, a Caltech theoretical physicist and 2017 Nobel laureate in Physics,[4] was an executive producer, acted as a scientific consultant, and wrote a tie-in book, The Science of Interstellar.\n",
    "Cinematographer Hoyte van Hoytema shot it on 35 mm movie film in the Panavision anamorphic format and IMAX 70 mm. Principal photography began in late 2013 and took place in Alberta, Iceland, and Los Angeles.\n",
    "Interstellar uses extensive practical and miniature effects, and the company Double Negative created additional digital effects.\n",
    "\n",
    "Interstellar premiered in Los Angeles on October 26, 2014. In the United States, it was first released on film stock, expanding to venues using digital projectors. The film received generally positive reviews from critics and grossed over $677 million worldwide ($715 million after subsequent re-releases), making it the tenth-highest-grossing film of 2014.\n",
    "It has been praised by astronomers for its scientific accuracy and portrayal of theoretical astrophysics.[5][6][7] Interstellar was nominated for five awards at the 87th Academy Awards, winning Best Visual Effects, and received numerous other accolades.\"\"\"\n"
   ],
   "id": "8b43995863b78834",
   "outputs": [],
   "execution_count": 22
  },
  {
   "metadata": {
    "ExecuteTime": {
     "end_time": "2025-05-05T12:12:43.085853Z",
     "start_time": "2025-05-05T12:12:43.078768Z"
    }
   },
   "cell_type": "code",
   "source": "text[0:100]\n",
   "id": "50412447e87e8931",
   "outputs": [
    {
     "data": {
      "text/plain": [
       "'Interstellar is a 2014 epic science fiction film co-written, directed, and produced by Christopher N'"
      ]
     },
     "execution_count": 23,
     "metadata": {},
     "output_type": "execute_result"
    }
   ],
   "execution_count": 23
  },
  {
   "metadata": {
    "ExecuteTime": {
     "end_time": "2025-05-05T12:12:54.264528Z",
     "start_time": "2025-05-05T12:12:54.252405Z"
    }
   },
   "cell_type": "code",
   "source": [
    "words = text.split(\" \")\n",
    "len(words)\n",
    "\n"
   ],
   "id": "eeea2f6dd567f1b6",
   "outputs": [
    {
     "data": {
      "text/plain": [
       "258"
      ]
     },
     "execution_count": 24,
     "metadata": {},
     "output_type": "execute_result"
    }
   ],
   "execution_count": 24
  },
  {
   "metadata": {
    "ExecuteTime": {
     "end_time": "2025-05-05T12:13:07.349195Z",
     "start_time": "2025-05-05T12:13:07.341191Z"
    }
   },
   "cell_type": "code",
   "source": [
    "chunks = []\n",
    "\n",
    "s = \"\"\n",
    "for word in words:\n",
    "    s += word + \" \"\n",
    "    if len(s)>200:\n",
    "        chunks.append(s)\n",
    "        s = \"\"\n",
    "\n",
    "chunks.append(s)"
   ],
   "id": "d26fd31ff40c4531",
   "outputs": [],
   "execution_count": 25
  },
  {
   "metadata": {
    "ExecuteTime": {
     "end_time": "2025-05-05T12:13:19.916119Z",
     "start_time": "2025-05-05T12:13:19.899686Z"
    }
   },
   "cell_type": "code",
   "source": "chunks[:2]\n",
   "id": "344e69b5775c2c56",
   "outputs": [
    {
     "data": {
      "text/plain": [
       "['Interstellar is a 2014 epic science fiction film co-written, directed, and produced by Christopher Nolan.\\nIt stars Matthew McConaughey, Anne Hathaway, Jessica Chastain, Bill Irwin, Ellen Burstyn, Matt ',\n",
       " 'Damon, and Michael Caine.\\nSet in a dystopian future where humanity is embroiled in a catastrophic blight and famine, the film follows a group of astronauts who travel through a wormhole near Saturn in ']"
      ]
     },
     "execution_count": 26,
     "metadata": {},
     "output_type": "execute_result"
    }
   ],
   "execution_count": 26
  },
  {
   "metadata": {
    "ExecuteTime": {
     "end_time": "2025-05-05T12:13:58.941291Z",
     "start_time": "2025-05-05T12:13:58.907328Z"
    }
   },
   "cell_type": "code",
   "source": [
    "from langchain.text_splitter import CharacterTextSplitter\n",
    "\n",
    "splitter = CharacterTextSplitter(\n",
    "    separator = \"\\n\",\n",
    "    chunk_size=200,\n",
    "    chunk_overlap=0\n",
    ")"
   ],
   "id": "ad2594d6f7690f13",
   "outputs": [],
   "execution_count": 27
  },
  {
   "metadata": {
    "ExecuteTime": {
     "end_time": "2025-05-05T12:14:45.505405Z",
     "start_time": "2025-05-05T12:14:45.494005Z"
    }
   },
   "cell_type": "code",
   "source": [
    "chunks = splitter.split_text(text)\n",
    "len(chunks)"
   ],
   "id": "237a486fbeef9e0f",
   "outputs": [
    {
     "name": "stderr",
     "output_type": "stream",
     "text": [
      "Created a chunk of size 210, which is longer than the specified 200\n",
      "Created a chunk of size 207, which is longer than the specified 200\n",
      "Created a chunk of size 357, which is longer than the specified 200\n"
     ]
    },
    {
     "data": {
      "text/plain": [
       "9"
      ]
     },
     "execution_count": 28,
     "metadata": {},
     "output_type": "execute_result"
    }
   ],
   "execution_count": 28
  },
  {
   "metadata": {
    "ExecuteTime": {
     "end_time": "2025-05-05T12:15:02.263642Z",
     "start_time": "2025-05-05T12:15:02.253067Z"
    }
   },
   "cell_type": "code",
   "source": [
    "for chunk in chunks:\n",
    "    print(len(chunk))\n"
   ],
   "id": "2cc35c8c9a99ed60",
   "outputs": [
    {
     "name": "stdout",
     "output_type": "stream",
     "text": [
      "105\n",
      "120\n",
      "210\n",
      "181\n",
      "197\n",
      "207\n",
      "128\n",
      "357\n",
      "253\n"
     ]
    }
   ],
   "execution_count": 29
  },
  {
   "metadata": {
    "ExecuteTime": {
     "end_time": "2025-05-05T12:15:30.765269Z",
     "start_time": "2025-05-05T12:15:30.753811Z"
    }
   },
   "cell_type": "code",
   "source": "chunks",
   "id": "403e4ee79104d5f2",
   "outputs": [
    {
     "data": {
      "text/plain": [
       "['Interstellar is a 2014 epic science fiction film co-written, directed, and produced by Christopher Nolan.',\n",
       " 'It stars Matthew McConaughey, Anne Hathaway, Jessica Chastain, Bill Irwin, Ellen Burstyn, Matt Damon, and Michael Caine.',\n",
       " 'Set in a dystopian future where humanity is embroiled in a catastrophic blight and famine, the film follows a group of astronauts who travel through a wormhole near Saturn in search of a new home for humankind.',\n",
       " 'Brothers Christopher and Jonathan Nolan wrote the screenplay, which had its origins in a script Jonathan developed in 2007 and was originally set to be directed by Steven Spielberg.',\n",
       " 'Kip Thorne, a Caltech theoretical physicist and 2017 Nobel laureate in Physics,[4] was an executive producer, acted as a scientific consultant, and wrote a tie-in book, The Science of Interstellar.',\n",
       " 'Cinematographer Hoyte van Hoytema shot it on 35 mm movie film in the Panavision anamorphic format and IMAX 70 mm. Principal photography began in late 2013 and took place in Alberta, Iceland, and Los Angeles.',\n",
       " 'Interstellar uses extensive practical and miniature effects, and the company Double Negative created additional digital effects.',\n",
       " 'Interstellar premiered in Los Angeles on October 26, 2014. In the United States, it was first released on film stock, expanding to venues using digital projectors. The film received generally positive reviews from critics and grossed over $677 million worldwide ($715 million after subsequent re-releases), making it the tenth-highest-grossing film of 2014.',\n",
       " 'It has been praised by astronomers for its scientific accuracy and portrayal of theoretical astrophysics.[5][6][7] Interstellar was nominated for five awards at the 87th Academy Awards, winning Best Visual Effects, and received numerous other accolades.']"
      ]
     },
     "execution_count": 30,
     "metadata": {},
     "output_type": "execute_result"
    }
   ],
   "execution_count": 30
  },
  {
   "metadata": {
    "ExecuteTime": {
     "end_time": "2025-05-05T12:18:03.667086Z",
     "start_time": "2025-05-05T12:18:03.661836Z"
    }
   },
   "cell_type": "code",
   "source": [
    "from langchain.text_splitter import RecursiveCharacterTextSplitter\n",
    "r_splitter = RecursiveCharacterTextSplitter(\n",
    "    separators = [\"\\n\\n\", \"\\n\", \" \"],\n",
    "    chunk_size = 200,\n",
    "     chunk_overlap  = 0,\n",
    "    length_function = len\n",
    ")"
   ],
   "id": "5d08ef95a1369288",
   "outputs": [],
   "execution_count": 31
  },
  {
   "metadata": {
    "ExecuteTime": {
     "end_time": "2025-05-05T12:18:13.418007Z",
     "start_time": "2025-05-05T12:18:13.405119Z"
    }
   },
   "cell_type": "code",
   "source": [
    "chunks = r_splitter.split_text(text)\n",
    "\n",
    "for chunk in chunks:\n",
    "    print(len(chunk))"
   ],
   "id": "df11166039048bbf",
   "outputs": [
    {
     "name": "stdout",
     "output_type": "stream",
     "text": [
      "105\n",
      "120\n",
      "199\n",
      "10\n",
      "181\n",
      "197\n",
      "198\n",
      "8\n",
      "128\n",
      "191\n",
      "165\n",
      "198\n",
      "54\n"
     ]
    }
   ],
   "execution_count": 32
  },
  {
   "metadata": {
    "ExecuteTime": {
     "end_time": "2025-05-05T12:19:11.194844Z",
     "start_time": "2025-05-05T12:19:11.178576Z"
    }
   },
   "cell_type": "code",
   "source": [
    "first_split = text.split(\"\\n\\n\")[0]\n",
    "first_split"
   ],
   "id": "9a9f83b635fd08c8",
   "outputs": [
    {
     "data": {
      "text/plain": [
       "'Interstellar is a 2014 epic science fiction film co-written, directed, and produced by Christopher Nolan.\\nIt stars Matthew McConaughey, Anne Hathaway, Jessica Chastain, Bill Irwin, Ellen Burstyn, Matt Damon, and Michael Caine.\\nSet in a dystopian future where humanity is embroiled in a catastrophic blight and famine, the film follows a group of astronauts who travel through a wormhole near Saturn in search of a new home for humankind.'"
      ]
     },
     "execution_count": 33,
     "metadata": {},
     "output_type": "execute_result"
    }
   ],
   "execution_count": 33
  },
  {
   "metadata": {
    "ExecuteTime": {
     "end_time": "2025-05-05T12:19:22.802411Z",
     "start_time": "2025-05-05T12:19:22.790095Z"
    }
   },
   "cell_type": "code",
   "source": "len(first_split)",
   "id": "cb0110fcce460f25",
   "outputs": [
    {
     "data": {
      "text/plain": [
       "437"
      ]
     },
     "execution_count": 34,
     "metadata": {},
     "output_type": "execute_result"
    }
   ],
   "execution_count": 34
  },
  {
   "metadata": {
    "ExecuteTime": {
     "end_time": "2025-05-05T12:19:41.118838Z",
     "start_time": "2025-05-05T12:19:41.106105Z"
    }
   },
   "cell_type": "code",
   "source": [
    "second_split = first_split.split(\"\\n\")\n",
    "second_split"
   ],
   "id": "d164dddef6f37d93",
   "outputs": [
    {
     "data": {
      "text/plain": [
       "['Interstellar is a 2014 epic science fiction film co-written, directed, and produced by Christopher Nolan.',\n",
       " 'It stars Matthew McConaughey, Anne Hathaway, Jessica Chastain, Bill Irwin, Ellen Burstyn, Matt Damon, and Michael Caine.',\n",
       " 'Set in a dystopian future where humanity is embroiled in a catastrophic blight and famine, the film follows a group of astronauts who travel through a wormhole near Saturn in search of a new home for humankind.']"
      ]
     },
     "execution_count": 35,
     "metadata": {},
     "output_type": "execute_result"
    }
   ],
   "execution_count": 35
  },
  {
   "metadata": {
    "ExecuteTime": {
     "end_time": "2025-05-05T12:19:52.072895Z",
     "start_time": "2025-05-05T12:19:52.062939Z"
    }
   },
   "cell_type": "code",
   "source": [
    "for split in second_split:\n",
    "    print(len(split))\n"
   ],
   "id": "653a6f7b635a1455",
   "outputs": [
    {
     "name": "stdout",
     "output_type": "stream",
     "text": [
      "105\n",
      "120\n",
      "210\n"
     ]
    }
   ],
   "execution_count": 36
  },
  {
   "metadata": {
    "ExecuteTime": {
     "end_time": "2025-05-05T12:22:19.795634Z",
     "start_time": "2025-05-05T12:22:19.787022Z"
    }
   },
   "cell_type": "code",
   "source": "second_split[2]",
   "id": "b9bd83f8018ef07b",
   "outputs": [
    {
     "data": {
      "text/plain": [
       "'Set in a dystopian future where humanity is embroiled in a catastrophic blight and famine, the film follows a group of astronauts who travel through a wormhole near Saturn in search of a new home for humankind.'"
      ]
     },
     "execution_count": 37,
     "metadata": {},
     "output_type": "execute_result"
    }
   ],
   "execution_count": 37
  },
  {
   "metadata": {},
   "cell_type": "code",
   "outputs": [],
   "execution_count": null,
   "source": "",
   "id": "a59edd337d517567"
  }
 ],
 "metadata": {
  "kernelspec": {
   "display_name": "Python 3",
   "language": "python",
   "name": "python3"
  },
  "language_info": {
   "codemirror_mode": {
    "name": "ipython",
    "version": 2
   },
   "file_extension": ".py",
   "mimetype": "text/x-python",
   "name": "python",
   "nbconvert_exporter": "python",
   "pygments_lexer": "ipython2",
   "version": "2.7.6"
  }
 },
 "nbformat": 4,
 "nbformat_minor": 5
}
